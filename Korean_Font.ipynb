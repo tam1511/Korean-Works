{
  "nbformat": 4,
  "nbformat_minor": 0,
  "metadata": {
    "colab": {
      "provenance": []
    },
    "kernelspec": {
      "name": "python3",
      "display_name": "Python 3"
    },
    "language_info": {
      "name": "python"
    }
  },
  "cells": [
    {
      "cell_type": "code",
      "execution_count": null,
      "metadata": {
        "id": "qqZA_MPuPXAJ"
      },
      "outputs": [],
      "source": [
        "!sudo apt-get install -y fonts-nanum\n",
        "!sudo fc-cache -fv\n",
        "!rm ~/.cache/matplotlib -rf"
      ]
    },
    {
      "cell_type": "code",
      "source": [
        "import matplotlib.pyplot as plt\n",
        "\n",
        "plt.rc('font', family='NanumBarunGothic')"
      ],
      "metadata": {
        "id": "s41P0Gb5Pcie"
      },
      "execution_count": null,
      "outputs": []
    },
    {
      "cell_type": "code",
      "source": [
        "# 한글을 넣어놓고 그러보면 깨진다\n",
        "\n",
        "# 데이터 준비\n",
        "import numpy as np\n",
        "data = np.random.randint(-200, 100, 50).cumsum()\n",
        "plt.figure(figsize=(10,8))\n",
        "plt.plot(range(50), data, 'r')\n",
        "plt.title('시간별 가격추이')\n",
        "plt.ylabel('주식가격')\n",
        "plt.xlabel('시간(분)')"
      ],
      "metadata": {
        "id": "5CIWKZmPPeaH"
      },
      "execution_count": null,
      "outputs": []
    }
  ]
}